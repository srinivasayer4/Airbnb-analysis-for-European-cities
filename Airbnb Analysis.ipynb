{
 "cells": [
  {
   "cell_type": "markdown",
   "metadata": {},
   "source": [
    "# Airbnb analysis for European capital cities\n",
    "## 1. Introduction\n",
    "Airbnb has posted the listing data for various cities across the world on http://insideairbnb.com/get-the-data.html. In this project I will be analyzing the data to find insights to housing prices across major cities in Europe."
   ]
  },
  {
   "cell_type": "code",
   "execution_count": 19,
   "metadata": {},
   "outputs": [],
   "source": [
    "import requests\n",
    "import pandas as pd\n",
    "import numpy as np\n",
    "import matplotlib.pyplot as plt\n",
    "import seaborn as sns\n",
    "import os"
   ]
  },
  {
   "cell_type": "code",
   "execution_count": 86,
   "metadata": {},
   "outputs": [],
   "source": [
    "import warnings\n",
    "warnings.filterwarnings('ignore')"
   ]
  },
  {
   "cell_type": "code",
   "execution_count": 188,
   "metadata": {},
   "outputs": [],
   "source": [
    "import re"
   ]
  },
  {
   "cell_type": "markdown",
   "metadata": {},
   "source": [
    "## 2. Data Gathering\n",
    "Airbnb has posted the listing data for various cities across the world on http://insideairbnb.com/get-the-data.html. I have downloaded the data to my local hard drive. The data is in the form of a compressed csv file."
   ]
  },
  {
   "cell_type": "code",
   "execution_count": 41,
   "metadata": {},
   "outputs": [
    {
     "data": {
      "text/plain": [
       "['Amsterdam',\n",
       " 'Berlin',\n",
       " 'Brussels',\n",
       " 'Copenhagen',\n",
       " 'Lisbon',\n",
       " 'London',\n",
       " 'Madrid',\n",
       " 'Oslo',\n",
       " 'Paris',\n",
       " 'Rome',\n",
       " 'Stockholm']"
      ]
     },
     "execution_count": 41,
     "metadata": {},
     "output_type": "execute_result"
    }
   ],
   "source": [
    "# Listing all the folders with different city information stored in the local hard drive\n",
    "\n",
    "path = r'C:\\Users\\srini\\Projects\\Airbnb'\n",
    "folders= os.listdir(path)\n",
    "folders"
   ]
  },
  {
   "cell_type": "code",
   "execution_count": 31,
   "metadata": {},
   "outputs": [
    {
     "data": {
      "text/html": [
       "<div>\n",
       "<style scoped>\n",
       "    .dataframe tbody tr th:only-of-type {\n",
       "        vertical-align: middle;\n",
       "    }\n",
       "\n",
       "    .dataframe tbody tr th {\n",
       "        vertical-align: top;\n",
       "    }\n",
       "\n",
       "    .dataframe thead th {\n",
       "        text-align: right;\n",
       "    }\n",
       "</style>\n",
       "<table border=\"1\" class=\"dataframe\">\n",
       "  <thead>\n",
       "    <tr style=\"text-align: right;\">\n",
       "      <th></th>\n",
       "      <th>id</th>\n",
       "      <th>listing_url</th>\n",
       "      <th>scrape_id</th>\n",
       "      <th>last_scraped</th>\n",
       "      <th>name</th>\n",
       "      <th>summary</th>\n",
       "      <th>space</th>\n",
       "      <th>description</th>\n",
       "      <th>experiences_offered</th>\n",
       "      <th>neighborhood_overview</th>\n",
       "      <th>...</th>\n",
       "      <th>instant_bookable</th>\n",
       "      <th>is_business_travel_ready</th>\n",
       "      <th>cancellation_policy</th>\n",
       "      <th>require_guest_profile_picture</th>\n",
       "      <th>require_guest_phone_verification</th>\n",
       "      <th>calculated_host_listings_count</th>\n",
       "      <th>calculated_host_listings_count_entire_homes</th>\n",
       "      <th>calculated_host_listings_count_private_rooms</th>\n",
       "      <th>calculated_host_listings_count_shared_rooms</th>\n",
       "      <th>reviews_per_month</th>\n",
       "    </tr>\n",
       "  </thead>\n",
       "  <tbody>\n",
       "    <tr>\n",
       "      <td>0</td>\n",
       "      <td>2818</td>\n",
       "      <td>https://www.airbnb.com/rooms/2818</td>\n",
       "      <td>20200508171622</td>\n",
       "      <td>2020-05-09</td>\n",
       "      <td>Quiet Garden View Room &amp; Super Fast WiFi</td>\n",
       "      <td>Quiet Garden View Room &amp; Super Fast WiFi</td>\n",
       "      <td>I'm renting a bedroom (room overlooking the ga...</td>\n",
       "      <td>Quiet Garden View Room &amp; Super Fast WiFi I'm r...</td>\n",
       "      <td>none</td>\n",
       "      <td>Indische Buurt (\"Indies Neighborhood\") is a ne...</td>\n",
       "      <td>...</td>\n",
       "      <td>t</td>\n",
       "      <td>f</td>\n",
       "      <td>strict_14_with_grace_period</td>\n",
       "      <td>f</td>\n",
       "      <td>f</td>\n",
       "      <td>1</td>\n",
       "      <td>0</td>\n",
       "      <td>1</td>\n",
       "      <td>0</td>\n",
       "      <td>2.05</td>\n",
       "    </tr>\n",
       "    <tr>\n",
       "      <td>1</td>\n",
       "      <td>9693</td>\n",
       "      <td>https://www.airbnb.com/rooms/9693</td>\n",
       "      <td>20200508171622</td>\n",
       "      <td>2020-05-09</td>\n",
       "      <td>Top Location on Canal (Center Flat)</td>\n",
       "      <td>You will love your stay here. It is a beautifu...</td>\n",
       "      <td>This beautiful apartment in the heart of 17th ...</td>\n",
       "      <td>You will love your stay here. It is a beautifu...</td>\n",
       "      <td>none</td>\n",
       "      <td>You will be on a beautiful quite canal and wil...</td>\n",
       "      <td>...</td>\n",
       "      <td>t</td>\n",
       "      <td>f</td>\n",
       "      <td>moderate</td>\n",
       "      <td>f</td>\n",
       "      <td>f</td>\n",
       "      <td>1</td>\n",
       "      <td>1</td>\n",
       "      <td>0</td>\n",
       "      <td>0</td>\n",
       "      <td>0.45</td>\n",
       "    </tr>\n",
       "  </tbody>\n",
       "</table>\n",
       "<p>2 rows × 106 columns</p>\n",
       "</div>"
      ],
      "text/plain": [
       "     id                        listing_url       scrape_id last_scraped  \\\n",
       "0  2818  https://www.airbnb.com/rooms/2818  20200508171622   2020-05-09   \n",
       "1  9693  https://www.airbnb.com/rooms/9693  20200508171622   2020-05-09   \n",
       "\n",
       "                                       name  \\\n",
       "0  Quiet Garden View Room & Super Fast WiFi   \n",
       "1       Top Location on Canal (Center Flat)   \n",
       "\n",
       "                                             summary  \\\n",
       "0           Quiet Garden View Room & Super Fast WiFi   \n",
       "1  You will love your stay here. It is a beautifu...   \n",
       "\n",
       "                                               space  \\\n",
       "0  I'm renting a bedroom (room overlooking the ga...   \n",
       "1  This beautiful apartment in the heart of 17th ...   \n",
       "\n",
       "                                         description experiences_offered  \\\n",
       "0  Quiet Garden View Room & Super Fast WiFi I'm r...                none   \n",
       "1  You will love your stay here. It is a beautifu...                none   \n",
       "\n",
       "                               neighborhood_overview  ... instant_bookable  \\\n",
       "0  Indische Buurt (\"Indies Neighborhood\") is a ne...  ...                t   \n",
       "1  You will be on a beautiful quite canal and wil...  ...                t   \n",
       "\n",
       "  is_business_travel_ready          cancellation_policy  \\\n",
       "0                        f  strict_14_with_grace_period   \n",
       "1                        f                     moderate   \n",
       "\n",
       "  require_guest_profile_picture require_guest_phone_verification  \\\n",
       "0                             f                                f   \n",
       "1                             f                                f   \n",
       "\n",
       "   calculated_host_listings_count  \\\n",
       "0                               1   \n",
       "1                               1   \n",
       "\n",
       "   calculated_host_listings_count_entire_homes  \\\n",
       "0                                            0   \n",
       "1                                            1   \n",
       "\n",
       "  calculated_host_listings_count_private_rooms  \\\n",
       "0                                            1   \n",
       "1                                            0   \n",
       "\n",
       "   calculated_host_listings_count_shared_rooms  reviews_per_month  \n",
       "0                                            0               2.05  \n",
       "1                                            0               0.45  \n",
       "\n",
       "[2 rows x 106 columns]"
      ]
     },
     "execution_count": 31,
     "metadata": {},
     "output_type": "execute_result"
    }
   ],
   "source": [
    "# Importing the listing information for Amsterdam\n",
    "df= pd.read_csv(os.path.join(path,folders[0], 'listings.csv.gz'))\n",
    "df.head(2)"
   ]
  },
  {
   "cell_type": "code",
   "execution_count": 37,
   "metadata": {},
   "outputs": [
    {
     "data": {
      "text/plain": [
       "(19278, 106)"
      ]
     },
     "execution_count": 37,
     "metadata": {},
     "output_type": "execute_result"
    }
   ],
   "source": [
    "df.shape"
   ]
  },
  {
   "cell_type": "markdown",
   "metadata": {},
   "source": [
    "Since the data for each city has the same file name 'listings' it will be accessed from across all the folders and merged to form a master dataframe."
   ]
  },
  {
   "cell_type": "code",
   "execution_count": 56,
   "metadata": {},
   "outputs": [],
   "source": [
    "# Merging the listing across all cities to form a master dataframe\n",
    "for i,city in enumerate(folders):\n",
    "    try:\n",
    "        if i==0:\n",
    "            df= pd.read_csv(os.path.join(path,city, 'listings.csv.gz'), low_memory=False)\n",
    "                                                # reading the csv file for Amsterdam\n",
    "        else:\n",
    "            df= pd.concat([df,pd.read_csv(os.path.join(path,city, 'listings.csv.gz'),low_memory=False)] ) \n",
    "                                                # joining the remaining files\n",
    "            \n",
    "    except:\n",
    "        print(city)\n"
   ]
  },
  {
   "cell_type": "code",
   "execution_count": 55,
   "metadata": {},
   "outputs": [
    {
     "data": {
      "text/plain": [
       "(320401, 106)"
      ]
     },
     "execution_count": 55,
     "metadata": {},
     "output_type": "execute_result"
    }
   ],
   "source": [
    "# Sending the compiled file to a local hard drive\n",
    "df.to_csv(os.path.join(path,'listing_master.csv'), index= False)\n",
    "df.shape"
   ]
  },
  {
   "cell_type": "markdown",
   "metadata": {},
   "source": [
    "The master dataframe consists of more than 300,000 rows and 106 columns."
   ]
  },
  {
   "cell_type": "markdown",
   "metadata": {},
   "source": [
    "## 3. Data Wrangling"
   ]
  },
  {
   "cell_type": "code",
   "execution_count": 51,
   "metadata": {},
   "outputs": [
    {
     "name": "stdout",
     "output_type": "stream",
     "text": [
      "id 2818\n",
      "listing_url https://www.airbnb.com/rooms/2818\n",
      "scrape_id 20200508171622\n",
      "last_scraped 2020-05-09\n",
      "name Quiet Garden View Room & Super Fast WiFi\n",
      "summary Quiet Garden View Room & Super Fast WiFi\n",
      "space I'm renting a bedroom (room overlooking the garden) in my apartment in Amsterdam,  The room is located to the east of the city centre in a quiet, typical Amsterdam neighbourhood the \"Indische Buurt\". Amsterdam’s historic centre is less than 15 minutes away by bike or tram. The features of the room are: - Twin beds (80 x 200 cm, down quilts and pillows)  - 2 pure cotton towels for each guest  - reading lamps - bedside table - wardrobe - table with chairs - tea and coffee making facilities - mini bar - alarm clock - Hi-Fi system with cd player, connection for mp3 player / phone - map of Amsterdam and public transport - Wi-Fi Internet connection  Extra services: - Bike rental\n",
      "description Quiet Garden View Room & Super Fast WiFi I'm renting a bedroom (room overlooking the garden) in my apartment in Amsterdam,  The room is located to the east of the city centre in a quiet, typical Amsterdam neighbourhood the \"Indische Buurt\". Amsterdam’s historic centre is less than 15 minutes away by bike or tram. The features of the room are: - Twin beds (80 x 200 cm, down quilts and pillows)  - 2 pure cotton towels for each guest  - reading lamps - bedside table - wardrobe - table with chairs - tea and coffee making facilities - mini bar - alarm clock - Hi-Fi system with cd player, connection for mp3 player / phone - map of Amsterdam and public transport - Wi-Fi Internet connection  Extra services: - Bike rental Indische Buurt (\"Indies Neighborhood\") is a neighbourhood in the eastern portion of the city of Amsterdam, in the Dutch province of Noord-Holland. The name dates from the early 20th century and is derived from the fact that the neighbourhood's streets are named after islands a\n",
      "experiences_offered none\n",
      "neighborhood_overview Indische Buurt (\"Indies Neighborhood\") is a neighbourhood in the eastern portion of the city of Amsterdam, in the Dutch province of Noord-Holland. The name dates from the early 20th century and is derived from the fact that the neighbourhood's streets are named after islands and other geographical concepts in the former Dutch colony of the Dutch East Indies. The first street was named in 1902. In 2003, there were around 23,357 inhabitants. The neighbourhood is bounded on the west by the railroad Amsterdam - Hilversum (with the Muiderpoort Station), on the east side by Flevopark, on the north side by Zeeburgerdijk and on the south side by the Ringvaart Watergraafsmeer. Indische Buurt is the oldest part of the Zeeburg district and is very ethnically diverse, and a high percentage of the population is of immigrant origin (for Zeeburg this is already high at 55%, but higher in the Indische Buurt) and there are an estimated 100 languages spoken.\n",
      "notes From week 38 to week 47 maintenance work to the bulding, possible noise on weekdays (from 7:00 to 16:00)\n",
      "transit The neighbourhood is well served by 24 hours public transport (2 trams and 4 buses).  Amsterdam is made for cycling. With special traffic lights and bicycle lanes, it is the fastest and cheapest way to travel in and around the city. Bicycle riding is also convenient, safe and lots of fun. Whatever your age, you will see more by bike!\n",
      "access nan\n",
      "interaction nan\n",
      "house_rules Please: - Leave your shoes in the entrance  - Do not smoke in the apartment or in the common parts of the building - Feel free to leave your valuables in the room but at your own risk (in case of     lost I will not be responsible) - Keep a low volume between 22:00 and 8:00 - Do not open the door to strangers - Turn off electrical appliances and unplug devices & chargers when not in    the room - Before exiting make sure that the window of the room and the entrance door    are well locked and the alarm ON.\n",
      "thumbnail_url nan\n",
      "medium_url nan\n",
      "picture_url https://a0.muscache.com/im/pictures/10272854/8dcca016_original.jpg?aki_policy=large\n",
      "xl_picture_url nan\n",
      "host_id 3159\n",
      "host_url https://www.airbnb.com/users/show/3159\n",
      "host_name Daniel\n",
      "host_since 2008-09-24\n",
      "host_location Amsterdam, Noord-Holland, The Netherlands\n",
      "host_about Upon arriving in Amsterdam, one can imagine asking oneself: Where is the fun nightlife? What are the local hot spots? \r\n",
      "\r\n",
      "How can I experience the real life in this city? I  offer you the opportunity to act, eat and sleep like-a-local!  \r\n",
      "\r\n",
      "I provide the traveler with the opportunity to connect with the local life in Amsterdam.\n",
      "host_response_time within an hour\n",
      "host_response_rate 100%\n",
      "host_acceptance_rate 100%\n",
      "host_is_superhost t\n",
      "host_thumbnail_url https://a0.muscache.com/im/users/3159/profile_pic/1259095323/original.jpg?aki_policy=profile_small\n",
      "host_picture_url https://a0.muscache.com/im/users/3159/profile_pic/1259095323/original.jpg?aki_policy=profile_x_medium\n",
      "host_neighbourhood Indische Buurt\n",
      "host_listings_count 1.0\n",
      "host_total_listings_count 1.0\n",
      "host_verifications ['email', 'phone', 'reviews', 'jumio', 'offline_government_id', 'selfie', 'government_id', 'identity_manual']\n",
      "host_has_profile_pic t\n",
      "host_identity_verified f\n",
      "street Amsterdam, North Holland, Netherlands\n",
      "neighbourhood Indische Buurt\n",
      "neighbourhood_cleansed Oostelijk Havengebied - Indische Buurt\n",
      "neighbourhood_group_cleansed nan\n",
      "city Amsterdam\n",
      "state North Holland\n",
      "zipcode nan\n",
      "market Amsterdam\n",
      "smart_location Amsterdam, Netherlands\n",
      "country_code NL\n",
      "country Netherlands\n",
      "latitude 52.36575\n",
      "longitude 4.94142\n",
      "is_location_exact f\n",
      "property_type Apartment\n",
      "room_type Private room\n",
      "accommodates 2\n",
      "bathrooms 1.5\n",
      "bedrooms 1.0\n",
      "beds 2.0\n",
      "bed_type Real Bed\n",
      "amenities {Internet,Wifi,\"Paid parking off premises\",\"Buzzer/wireless intercom\",Heating,Washer,\"Smoke detector\",\"Carbon monoxide detector\",\"First aid kit\",\"Safety card\",\"Fire extinguisher\",Essentials,Shampoo,\"Lock on bedroom door\",\"24-hour check-in\",Hangers,\"Hair dryer\",Iron,\"Laptop friendly workspace\",\"translation missing: en.hosting_amenity_49\",\"translation missing: en.hosting_amenity_50\",\"Private entrance\",\"Hot water\",\"Bed linens\",\"Extra pillows and blankets\",\"Ethernet connection\",\"Coffee maker\",Refrigerator,\"Single level home\",\"Garden or backyard\",\"Host greets you\",\"Paid parking on premises\",\"Trash can\"}\n",
      "square_feet nan\n",
      "price $59.00\n",
      "weekly_price nan\n",
      "monthly_price $1,500.00\n",
      "security_deposit $200.00\n",
      "cleaning_fee $60.00\n",
      "guests_included 1\n",
      "extra_people $20.00\n",
      "minimum_nights 3\n",
      "maximum_nights 15\n",
      "minimum_minimum_nights 3\n",
      "maximum_minimum_nights 3\n",
      "minimum_maximum_nights 1125\n",
      "maximum_maximum_nights 1125\n",
      "minimum_nights_avg_ntm 3.0\n",
      "maximum_nights_avg_ntm 1125.0\n",
      "calendar_updated 2 months ago\n",
      "has_availability t\n",
      "availability_30 22\n",
      "availability_60 52\n",
      "availability_90 82\n",
      "availability_365 157\n",
      "calendar_last_scraped 2020-05-09\n",
      "number_of_reviews 278\n",
      "number_of_reviews_ltm 22\n",
      "first_review 2009-03-30\n",
      "last_review 2020-02-14\n",
      "review_scores_rating 98.0\n",
      "review_scores_accuracy 10.0\n",
      "review_scores_cleanliness 10.0\n",
      "review_scores_checkin 10.0\n",
      "review_scores_communication 10.0\n",
      "review_scores_location 9.0\n",
      "review_scores_value 10.0\n",
      "requires_license f\n",
      "license nan\n",
      "jurisdiction_names {Amsterdam,\" NL Zip Codes 2\",\" Amsterdam\",\" NL\"}\n",
      "instant_bookable t\n",
      "is_business_travel_ready f\n",
      "cancellation_policy strict_14_with_grace_period\n",
      "require_guest_profile_picture f\n",
      "require_guest_phone_verification f\n",
      "calculated_host_listings_count 1\n",
      "calculated_host_listings_count_entire_homes 0\n",
      "calculated_host_listings_count_private_rooms 1\n",
      "calculated_host_listings_count_shared_rooms 0\n",
      "reviews_per_month 2.05\n"
     ]
    }
   ],
   "source": [
    "# Listing all the values for the first row\n",
    "for i,col_name in enumerate(df.columns):\n",
    "    print(col_name, df.iloc[0,i])"
   ]
  },
  {
   "cell_type": "markdown",
   "metadata": {},
   "source": [
    "### 3.1 Essential feature selection\n",
    "Only some columns are essential for our current analysis. We will make a subset of our dataframe with the essential columns. For example columns with the house discription or picture of the house or the host are not essential for our analysis here and will be ignored."
   ]
  },
  {
   "cell_type": "code",
   "execution_count": 59,
   "metadata": {},
   "outputs": [],
   "source": [
    "# Making a list for essential columns\n",
    "essential_columns= ['id', 'name', 'host_id','host_since', 'host_response_time','host_response_rate','host_acceptance_rate',\\\n",
    "'host_is_superhost','host_total_listings_count','host_verifications','street','city','country',\\\n",
    " 'property_type','room_type','accommodates','bathrooms','bedrooms','beds','bed_type','amenities','square_feet',\\\n",
    "'price','weekly_price','monthly_price','security_deposit','cleaning_fee','guests_included','extra_people','minimum_nights',\\\n",
    "'maximum_nights','availability_30','availability_60','availability_90','availability_365', 'number_of_reviews', \\\n",
    "'number_of_reviews_ltm','first_review','last_review','review_scores_rating','review_scores_accuracy',\\\n",
    "'review_scores_cleanliness','review_scores_checkin','review_scores_communication','review_scores_location',\\\n",
    "'review_scores_value','is_business_travel_ready','cancellation_policy','require_guest_profile_picture','require_guest_phone_verification',\\\n",
    "'calculated_host_listings_count','calculated_host_listings_count_entire_homes',\\\n",
    "'calculated_host_listings_count_private_rooms','calculated_host_listings_count_shared_rooms','reviews_per_month']\n"
   ]
  },
  {
   "cell_type": "markdown",
   "metadata": {},
   "source": [
    "I manually saw that the above columns would be essential for our Airbnb analysis and kept them."
   ]
  },
  {
   "cell_type": "code",
   "execution_count": 61,
   "metadata": {},
   "outputs": [
    {
     "data": {
      "text/plain": [
       "(320401, 55)"
      ]
     },
     "execution_count": 61,
     "metadata": {},
     "output_type": "execute_result"
    }
   ],
   "source": [
    "# Making a subset dataframe with essential columns\n",
    "df = df[essential_columns]\n",
    "\n",
    "# Creating a backup for the cleaned dataframe\n",
    "df.to_csv(os.path.join(path,'listing_master_clean.csv'), index= False)\n",
    "\n",
    "df.shape"
   ]
  },
  {
   "cell_type": "code",
   "execution_count": 123,
   "metadata": {},
   "outputs": [],
   "source": [
    "# Reading the csv \n",
    "df= pd.read_csv(os.path.join(path,'listing_master_clean.csv'))"
   ]
  },
  {
   "cell_type": "markdown",
   "metadata": {},
   "source": [
    "### 3.2 Duplicate Values"
   ]
  },
  {
   "cell_type": "code",
   "execution_count": 124,
   "metadata": {},
   "outputs": [
    {
     "data": {
      "text/plain": [
       "0"
      ]
     },
     "execution_count": 124,
     "metadata": {},
     "output_type": "execute_result"
    }
   ],
   "source": [
    "# Finding duplicate values in the dataset\n",
    "df.duplicated().sum()"
   ]
  },
  {
   "cell_type": "code",
   "execution_count": 125,
   "metadata": {},
   "outputs": [
    {
     "data": {
      "text/plain": [
       "0"
      ]
     },
     "execution_count": 125,
     "metadata": {},
     "output_type": "execute_result"
    }
   ],
   "source": [
    "# Finding if there are any duplicate IDs in the dataset\n",
    "df.duplicated(subset= 'id', ).sum()"
   ]
  },
  {
   "cell_type": "markdown",
   "metadata": {},
   "source": [
    "### 3.3 Removing the default index\n",
    "Since we merged several dataframes together there are several rows with the same index number. These have to be removed."
   ]
  },
  {
   "cell_type": "code",
   "execution_count": 126,
   "metadata": {},
   "outputs": [],
   "source": [
    "# removing the default index \n",
    "df.reset_index(inplace= True)"
   ]
  },
  {
   "cell_type": "code",
   "execution_count": 127,
   "metadata": {},
   "outputs": [],
   "source": [
    "# dropping the index column\n",
    "df.drop(columns='index', inplace= True)"
   ]
  },
  {
   "cell_type": "markdown",
   "metadata": {},
   "source": [
    "### 3.3 Data Types"
   ]
  },
  {
   "cell_type": "code",
   "execution_count": 128,
   "metadata": {},
   "outputs": [
    {
     "name": "stdout",
     "output_type": "stream",
     "text": [
      "<class 'pandas.core.frame.DataFrame'>\n",
      "RangeIndex: 320401 entries, 0 to 320400\n",
      "Data columns (total 55 columns):\n",
      "id                                              320401 non-null int64\n",
      "name                                            320087 non-null object\n",
      "host_id                                         320401 non-null int64\n",
      "host_since                                      320344 non-null object\n",
      "host_response_time                              181771 non-null object\n",
      "host_response_rate                              181771 non-null object\n",
      "host_acceptance_rate                            235387 non-null object\n",
      "host_is_superhost                               320344 non-null object\n",
      "host_total_listings_count                       320344 non-null float64\n",
      "host_verifications                              320401 non-null object\n",
      "street                                          320401 non-null object\n",
      "city                                            319552 non-null object\n",
      "country                                         320401 non-null object\n",
      "property_type                                   320401 non-null object\n",
      "room_type                                       320401 non-null object\n",
      "accommodates                                    320401 non-null int64\n",
      "bathrooms                                       320111 non-null float64\n",
      "bedrooms                                        319926 non-null float64\n",
      "beds                                            317884 non-null float64\n",
      "bed_type                                        320393 non-null object\n",
      "amenities                                       320401 non-null object\n",
      "square_feet                                     4078 non-null float64\n",
      "price                                           320401 non-null object\n",
      "weekly_price                                    33992 non-null object\n",
      "monthly_price                                   23270 non-null object\n",
      "security_deposit                                209563 non-null object\n",
      "cleaning_fee                                    238221 non-null object\n",
      "guests_included                                 320401 non-null int64\n",
      "extra_people                                    320401 non-null object\n",
      "minimum_nights                                  320401 non-null int64\n",
      "maximum_nights                                  320401 non-null int64\n",
      "availability_30                                 320401 non-null int64\n",
      "availability_60                                 320401 non-null int64\n",
      "availability_90                                 320401 non-null int64\n",
      "availability_365                                320401 non-null int64\n",
      "number_of_reviews                               320401 non-null int64\n",
      "number_of_reviews_ltm                           320401 non-null int64\n",
      "first_review                                    254980 non-null object\n",
      "last_review                                     254980 non-null object\n",
      "review_scores_rating                            249910 non-null float64\n",
      "review_scores_accuracy                          249678 non-null float64\n",
      "review_scores_cleanliness                       249721 non-null float64\n",
      "review_scores_checkin                           249538 non-null float64\n",
      "review_scores_communication                     249686 non-null float64\n",
      "review_scores_location                          249531 non-null float64\n",
      "review_scores_value                             249521 non-null float64\n",
      "is_business_travel_ready                        320401 non-null object\n",
      "cancellation_policy                             320400 non-null object\n",
      "require_guest_profile_picture                   320401 non-null object\n",
      "require_guest_phone_verification                320401 non-null object\n",
      "calculated_host_listings_count                  320401 non-null int64\n",
      "calculated_host_listings_count_entire_homes     320401 non-null int64\n",
      "calculated_host_listings_count_private_rooms    320401 non-null int64\n",
      "calculated_host_listings_count_shared_rooms     320401 non-null int64\n",
      "reviews_per_month                               254980 non-null float64\n",
      "dtypes: float64(13), int64(16), object(26)\n",
      "memory usage: 134.4+ MB\n"
     ]
    }
   ],
   "source": [
    "df.info()"
   ]
  },
  {
   "cell_type": "markdown",
   "metadata": {},
   "source": [
    "**3.3.1 Date format for Host_since**"
   ]
  },
  {
   "cell_type": "code",
   "execution_count": 129,
   "metadata": {},
   "outputs": [
    {
     "data": {
      "text/plain": [
       "pandas._libs.tslibs.timestamps.Timestamp"
      ]
     },
     "execution_count": 129,
     "metadata": {},
     "output_type": "execute_result"
    }
   ],
   "source": [
    "# changing the data type for host_since column\n",
    "df.host_since= pd.to_datetime(df.host_since, )\n",
    "type(df.host_since[0])"
   ]
  },
  {
   "cell_type": "markdown",
   "metadata": {},
   "source": [
    "**3.3.2 Float for response_rate column**"
   ]
  },
  {
   "cell_type": "code",
   "execution_count": 130,
   "metadata": {},
   "outputs": [
    {
     "data": {
      "text/plain": [
       "array(['100%', nan, '50%', '90%', '0%', '89%', '70%', '83%', '80%', '22%',\n",
       "       '20%', '75%', '67%', '13%', '33%', '40%', '86%', '94%', '30%',\n",
       "       '78%', '98%', '29%', '71%', '25%', '60%', '57%', '88%', '10%',\n",
       "       '63%', '97%', '95%', '44%', '54%', '43%', '91%', '92%', '93%',\n",
       "       '56%', '17%', '79%', '38%', '41%', '85%', '62%', '73%', '87%',\n",
       "       '64%', '96%', '99%', '82%', '81%', '76%', '14%', '69%', '31%',\n",
       "       '11%', '47%', '27%', '55%', '74%', '72%', '42%', '58%', '84%',\n",
       "       '77%', '52%', '46%', '66%', '68%', '53%', '37%', '36%', '51%',\n",
       "       '15%', '61%', '6%', '9%', '8%', '5%', '65%'], dtype=object)"
      ]
     },
     "execution_count": 130,
     "metadata": {},
     "output_type": "execute_result"
    }
   ],
   "source": [
    "# exploring the response rate column\n",
    "df.host_response_rate.unique()"
   ]
  },
  {
   "cell_type": "code",
   "execution_count": 131,
   "metadata": {},
   "outputs": [
    {
     "data": {
      "text/plain": [
       "array(['100%', '0.1%', '50%', '90%', '0%', '89%', '70%', '83%', '80%',\n",
       "       '22%', '20%', '75%', '67%', '13%', '33%', '40%', '86%', '94%',\n",
       "       '30%', '78%', '98%', '29%', '71%', '25%', '60%', '57%', '88%',\n",
       "       '10%', '63%', '97%', '95%', '44%', '54%', '43%', '91%', '92%',\n",
       "       '93%', '56%', '17%', '79%', '38%', '41%', '85%', '62%', '73%',\n",
       "       '87%', '64%', '96%', '99%', '82%', '81%', '76%', '14%', '69%',\n",
       "       '31%', '11%', '47%', '27%', '55%', '74%', '72%', '42%', '58%',\n",
       "       '84%', '77%', '52%', '46%', '66%', '68%', '53%', '37%', '36%',\n",
       "       '51%', '15%', '61%', '6%', '9%', '8%', '5%', '65%'], dtype=object)"
      ]
     },
     "execution_count": 131,
     "metadata": {},
     "output_type": "execute_result"
    }
   ],
   "source": [
    "# Filling missing values with an arbitary number for further processessing\n",
    "df.host_response_rate.fillna('0.1%', inplace= True)\n",
    "df.host_response_rate.unique()"
   ]
  },
  {
   "cell_type": "code",
   "execution_count": 132,
   "metadata": {},
   "outputs": [],
   "source": [
    "# changing the response_rate column to a decimal number\n",
    "df.host_response_rate= df.host_response_rate.apply(lambda x: float(x[:-1])/100)"
   ]
  },
  {
   "cell_type": "code",
   "execution_count": 133,
   "metadata": {},
   "outputs": [
    {
     "data": {
      "text/plain": [
       "array([1.  ,  nan, 0.5 , 0.9 , 0.  , 0.89, 0.7 , 0.83, 0.8 , 0.22, 0.2 ,\n",
       "       0.75, 0.67, 0.13, 0.33, 0.4 , 0.86, 0.94, 0.3 , 0.78, 0.98, 0.29,\n",
       "       0.71, 0.25, 0.6 , 0.57, 0.88, 0.1 , 0.63, 0.97, 0.95, 0.44, 0.54,\n",
       "       0.43, 0.91, 0.92, 0.93, 0.56, 0.17, 0.79, 0.38, 0.41, 0.85, 0.62,\n",
       "       0.73, 0.87, 0.64, 0.96, 0.99, 0.82, 0.81, 0.76, 0.14, 0.69, 0.31,\n",
       "       0.11, 0.47, 0.27, 0.55, 0.74, 0.72, 0.42, 0.58, 0.84, 0.77, 0.52,\n",
       "       0.46, 0.66, 0.68, 0.53, 0.37, 0.36, 0.51, 0.15, 0.61, 0.06, 0.09,\n",
       "       0.08, 0.05, 0.65])"
      ]
     },
     "execution_count": 133,
     "metadata": {},
     "output_type": "execute_result"
    }
   ],
   "source": [
    "# Filling back the missing values\n",
    "df.host_response_rate.replace({0.001:np.nan}, inplace= True)\n",
    "df.host_response_rate.unique()"
   ]
  },
  {
   "cell_type": "markdown",
   "metadata": {},
   "source": [
    "**3.3.3 Float for acceptance_rate column**"
   ]
  },
  {
   "cell_type": "code",
   "execution_count": 141,
   "metadata": {},
   "outputs": [
    {
     "data": {
      "text/plain": [
       "array([1.  , 0.97, 0.53, 0.99,  nan, 0.73, 0.35, 0.96, 0.95, 0.2 , 0.55,\n",
       "       0.98, 0.78, 0.89, 0.67, 0.4 , 0.64, 0.57, 0.  , 0.59, 0.93, 0.47,\n",
       "       0.88, 0.94, 0.42, 0.75, 0.5 , 0.62, 0.83, 0.9 , 0.76, 0.38, 0.82,\n",
       "       0.71, 0.56, 0.32, 0.33, 0.7 , 0.14, 0.92, 0.72, 0.81, 0.86, 0.23,\n",
       "       0.84, 0.3 , 0.8 , 0.44, 0.58, 0.25, 0.17, 0.36, 0.39, 0.63, 0.09,\n",
       "       0.69, 0.77, 0.46, 0.27, 0.6 , 0.21, 0.79, 0.68, 0.26, 0.91, 0.19,\n",
       "       0.85, 0.65, 0.07, 0.29, 0.13, 0.01, 0.45, 0.43, 0.52, 0.41, 0.22,\n",
       "       0.87, 0.48, 0.24, 0.15, 0.31, 0.37, 0.28, 0.61, 0.18, 0.08, 0.66,\n",
       "       0.12, 0.54, 0.02, 0.49, 0.16, 0.11, 0.74, 0.06, 0.51, 0.1 , 0.05,\n",
       "       0.34, 0.03, 0.04])"
      ]
     },
     "execution_count": 141,
     "metadata": {},
     "output_type": "execute_result"
    }
   ],
   "source": [
    "# Taking similar steps for host_acceptance_rate column\n",
    "df.host_acceptance_rate.fillna('0.1%', inplace= True)\n",
    "df.host_acceptance_rate= df.host_acceptance_rate.apply(lambda x: float(x[:-1])/100)\n",
    "df.host_acceptance_rate.replace({0.001:np.nan}, inplace= True)\n",
    "df.host_acceptance_rate.unique()"
   ]
  },
  {
   "cell_type": "markdown",
   "metadata": {},
   "source": [
    "**3.3.4 Boolean values for is_superhost column**"
   ]
  },
  {
   "cell_type": "code",
   "execution_count": 145,
   "metadata": {},
   "outputs": [
    {
     "data": {
      "text/plain": [
       "0.0    266905\n",
       "1.0     53439\n",
       "Name: host_is_superhost, dtype: int64"
      ]
     },
     "execution_count": 145,
     "metadata": {},
     "output_type": "execute_result"
    }
   ],
   "source": [
    "# Replacing t and f values as 1 and 0 in the host_is_superhost column\n",
    "df.host_is_superhost.replace({'t':1, 'f':0}, inplace= True)\n",
    "df.host_is_superhost.value_counts()"
   ]
  },
  {
   "cell_type": "markdown",
   "metadata": {},
   "source": [
    "**3.3.5 Float values for price, weekly_price, monthly_price, cleaning_cost, secuirty deposit columns**"
   ]
  },
  {
   "cell_type": "code",
   "execution_count": 160,
   "metadata": {},
   "outputs": [],
   "source": [
    "# Changing price to float value\n",
    "def price_to_float(x):\n",
    "    \"\"\"Removes the ',' and '$' from the price value and returns a float\"\"\"\n",
    "    try:\n",
    "        x= x.replace(',','')\n",
    "        x_transformed = float(x[1:])\n",
    "        \n",
    "    except:\n",
    "        try:\n",
    "            x_transformed = float(x[1:])\n",
    "        except:\n",
    "            x_transformed= None\n",
    "        \n",
    "    return x_transformed"
   ]
  },
  {
   "cell_type": "code",
   "execution_count": 158,
   "metadata": {},
   "outputs": [
    {
     "data": {
      "text/plain": [
       "numpy.float64"
      ]
     },
     "execution_count": 158,
     "metadata": {},
     "output_type": "execute_result"
    }
   ],
   "source": [
    "# Changing price to float value\n",
    "df.price= df.price.apply(lambda x: price_to_float(x))\n",
    "\n",
    "type(df.price[0])"
   ]
  },
  {
   "cell_type": "code",
   "execution_count": 162,
   "metadata": {},
   "outputs": [
    {
     "data": {
      "text/plain": [
       "numpy.float64"
      ]
     },
     "execution_count": 162,
     "metadata": {},
     "output_type": "execute_result"
    }
   ],
   "source": [
    "# Changing weekly price to float value\n",
    "df.weekly_price= df.weekly_price.apply(lambda x: price_to_float(x))\n",
    "type(df.weekly_price[0])"
   ]
  },
  {
   "cell_type": "code",
   "execution_count": 163,
   "metadata": {},
   "outputs": [
    {
     "data": {
      "text/plain": [
       "numpy.float64"
      ]
     },
     "execution_count": 163,
     "metadata": {},
     "output_type": "execute_result"
    }
   ],
   "source": [
    "# Changing monthly price to float value\n",
    "df.monthly_price= df.monthly_price.apply(lambda x: price_to_float(x))\n",
    "type(df.monthly_price[0])"
   ]
  },
  {
   "cell_type": "code",
   "execution_count": 165,
   "metadata": {},
   "outputs": [
    {
     "data": {
      "text/plain": [
       "numpy.float64"
      ]
     },
     "execution_count": 165,
     "metadata": {},
     "output_type": "execute_result"
    }
   ],
   "source": [
    "# Changing security_fee to float value\n",
    "df.security_deposit= df.security_deposit.apply(lambda x: price_to_float(x))\n",
    "type(df.security_deposit[0])"
   ]
  },
  {
   "cell_type": "code",
   "execution_count": 166,
   "metadata": {},
   "outputs": [
    {
     "data": {
      "text/plain": [
       "numpy.float64"
      ]
     },
     "execution_count": 166,
     "metadata": {},
     "output_type": "execute_result"
    }
   ],
   "source": [
    "# Changing cleaning fee to float value\n",
    "df.cleaning_fee= df.cleaning_fee.apply(lambda x: price_to_float(x))\n",
    "type(df.cleaning_fee[0])"
   ]
  },
  {
   "cell_type": "code",
   "execution_count": 169,
   "metadata": {},
   "outputs": [
    {
     "data": {
      "text/plain": [
       "numpy.float64"
      ]
     },
     "execution_count": 169,
     "metadata": {},
     "output_type": "execute_result"
    }
   ],
   "source": [
    "# Changing extra people cost to float value\n",
    "df.extra_people= df.extra_people.apply(lambda x: price_to_float(x))\n",
    "type(df.extra_people[0])"
   ]
  },
  {
   "cell_type": "markdown",
   "metadata": {},
   "source": [
    "**3.3.6 Date format for first and last review columns**"
   ]
  },
  {
   "cell_type": "code",
   "execution_count": 171,
   "metadata": {},
   "outputs": [],
   "source": [
    "# Changing to date type for first review and last review\n",
    "df.first_review= pd.to_datetime(df.first_review)\n",
    "df.last_review = pd.to_datetime(df.last_review)"
   ]
  },
  {
   "cell_type": "markdown",
   "metadata": {},
   "source": [
    "**3.3.7 Boolean format for guest requirement columns**"
   ]
  },
  {
   "cell_type": "code",
   "execution_count": 177,
   "metadata": {},
   "outputs": [
    {
     "data": {
      "text/plain": [
       "0    317794\n",
       "1      2607\n",
       "Name: require_guest_profile_picture, dtype: int64"
      ]
     },
     "execution_count": 177,
     "metadata": {},
     "output_type": "execute_result"
    }
   ],
   "source": [
    "# Changing require_guest_profile_picture to boolean values\n",
    "df.require_guest_profile_picture.replace({'t':1, 'f':0}, inplace= True)\n",
    "df.require_guest_profile_picture.value_counts()"
   ]
  },
  {
   "cell_type": "code",
   "execution_count": 178,
   "metadata": {},
   "outputs": [
    {
     "data": {
      "text/plain": [
       "0    314904\n",
       "1      5497\n",
       "Name: require_guest_phone_verification, dtype: int64"
      ]
     },
     "execution_count": 178,
     "metadata": {},
     "output_type": "execute_result"
    }
   ],
   "source": [
    "# Changing require_guest_phone_verification to boolean values\n",
    "df.require_guest_phone_verification.replace({'t':1, 'f':0}, inplace= True)\n",
    "df.require_guest_phone_verification.value_counts()"
   ]
  },
  {
   "cell_type": "code",
   "execution_count": 179,
   "metadata": {},
   "outputs": [
    {
     "name": "stdout",
     "output_type": "stream",
     "text": [
      "<class 'pandas.core.frame.DataFrame'>\n",
      "RangeIndex: 320401 entries, 0 to 320400\n",
      "Data columns (total 54 columns):\n",
      "id                                              320401 non-null int64\n",
      "name                                            320087 non-null object\n",
      "host_id                                         320401 non-null int64\n",
      "host_since                                      320344 non-null datetime64[ns]\n",
      "host_response_time                              181771 non-null object\n",
      "host_response_rate                              181771 non-null float64\n",
      "host_acceptance_rate                            235387 non-null float64\n",
      "host_is_superhost                               320344 non-null float64\n",
      "host_total_listings_count                       320344 non-null float64\n",
      "host_verifications                              320401 non-null object\n",
      "street                                          320401 non-null object\n",
      "city                                            319552 non-null object\n",
      "country                                         320401 non-null object\n",
      "property_type                                   320401 non-null object\n",
      "room_type                                       320401 non-null object\n",
      "accommodates                                    320401 non-null int64\n",
      "bathrooms                                       320111 non-null float64\n",
      "bedrooms                                        319926 non-null float64\n",
      "beds                                            317884 non-null float64\n",
      "bed_type                                        320393 non-null object\n",
      "amenities                                       320401 non-null object\n",
      "price                                           320401 non-null float64\n",
      "weekly_price                                    33992 non-null float64\n",
      "monthly_price                                   23270 non-null float64\n",
      "security_deposit                                209563 non-null float64\n",
      "cleaning_fee                                    238221 non-null float64\n",
      "guests_included                                 320401 non-null int64\n",
      "extra_people                                    320401 non-null float64\n",
      "minimum_nights                                  320401 non-null int64\n",
      "maximum_nights                                  320401 non-null int64\n",
      "availability_30                                 320401 non-null int64\n",
      "availability_60                                 320401 non-null int64\n",
      "availability_90                                 320401 non-null int64\n",
      "availability_365                                320401 non-null int64\n",
      "number_of_reviews                               320401 non-null int64\n",
      "number_of_reviews_ltm                           320401 non-null int64\n",
      "first_review                                    254980 non-null datetime64[ns]\n",
      "last_review                                     254980 non-null datetime64[ns]\n",
      "review_scores_rating                            249910 non-null float64\n",
      "review_scores_accuracy                          249678 non-null float64\n",
      "review_scores_cleanliness                       249721 non-null float64\n",
      "review_scores_checkin                           249538 non-null float64\n",
      "review_scores_communication                     249686 non-null float64\n",
      "review_scores_location                          249531 non-null float64\n",
      "review_scores_value                             249521 non-null float64\n",
      "is_business_travel_ready                        320401 non-null object\n",
      "cancellation_policy                             320400 non-null object\n",
      "require_guest_profile_picture                   320401 non-null int64\n",
      "require_guest_phone_verification                320401 non-null int64\n",
      "calculated_host_listings_count                  320401 non-null int64\n",
      "calculated_host_listings_count_entire_homes     320401 non-null int64\n",
      "calculated_host_listings_count_private_rooms    320401 non-null int64\n",
      "calculated_host_listings_count_shared_rooms     320401 non-null int64\n",
      "reviews_per_month                               254980 non-null float64\n",
      "dtypes: datetime64[ns](3), float64(21), int64(18), object(12)\n",
      "memory usage: 132.0+ MB\n"
     ]
    }
   ],
   "source": [
    "df.info()"
   ]
  },
  {
   "cell_type": "code",
   "execution_count": null,
   "metadata": {},
   "outputs": [],
   "source": []
  },
  {
   "cell_type": "markdown",
   "metadata": {},
   "source": [
    "### 3.3 Missing Values"
   ]
  },
  {
   "cell_type": "code",
   "execution_count": 180,
   "metadata": {},
   "outputs": [
    {
     "data": {
      "text/plain": [
       "id                                                   0\n",
       "name                                               314\n",
       "host_id                                              0\n",
       "host_since                                          57\n",
       "host_response_time                              138630\n",
       "host_response_rate                              138630\n",
       "host_acceptance_rate                             85014\n",
       "host_is_superhost                                   57\n",
       "host_total_listings_count                           57\n",
       "host_verifications                                   0\n",
       "street                                               0\n",
       "city                                               849\n",
       "country                                              0\n",
       "property_type                                        0\n",
       "room_type                                            0\n",
       "accommodates                                         0\n",
       "bathrooms                                          290\n",
       "bedrooms                                           475\n",
       "beds                                              2517\n",
       "bed_type                                             8\n",
       "amenities                                            0\n",
       "price                                                0\n",
       "weekly_price                                    286409\n",
       "monthly_price                                   297131\n",
       "security_deposit                                110838\n",
       "cleaning_fee                                     82180\n",
       "guests_included                                      0\n",
       "extra_people                                         0\n",
       "minimum_nights                                       0\n",
       "maximum_nights                                       0\n",
       "availability_30                                      0\n",
       "availability_60                                      0\n",
       "availability_90                                      0\n",
       "availability_365                                     0\n",
       "number_of_reviews                                    0\n",
       "number_of_reviews_ltm                                0\n",
       "first_review                                     65421\n",
       "last_review                                      65421\n",
       "review_scores_rating                             70491\n",
       "review_scores_accuracy                           70723\n",
       "review_scores_cleanliness                        70680\n",
       "review_scores_checkin                            70863\n",
       "review_scores_communication                      70715\n",
       "review_scores_location                           70870\n",
       "review_scores_value                              70880\n",
       "is_business_travel_ready                             0\n",
       "cancellation_policy                                  1\n",
       "require_guest_profile_picture                        0\n",
       "require_guest_phone_verification                     0\n",
       "calculated_host_listings_count                       0\n",
       "calculated_host_listings_count_entire_homes          0\n",
       "calculated_host_listings_count_private_rooms         0\n",
       "calculated_host_listings_count_shared_rooms          0\n",
       "reviews_per_month                                65421\n",
       "dtype: int64"
      ]
     },
     "execution_count": 180,
     "metadata": {},
     "output_type": "execute_result"
    }
   ],
   "source": [
    "df.isna().sum()"
   ]
  },
  {
   "cell_type": "code",
   "execution_count": 135,
   "metadata": {},
   "outputs": [
    {
     "data": {
      "text/plain": [
       "0.9872721995249703"
      ]
     },
     "execution_count": 135,
     "metadata": {},
     "output_type": "execute_result"
    }
   ],
   "source": [
    "# Proportion of missing values in Square feet column\n",
    "df.square_feet.isna().sum()/ df.shape[0]"
   ]
  },
  {
   "cell_type": "code",
   "execution_count": 136,
   "metadata": {},
   "outputs": [
    {
     "data": {
      "text/plain": [
       "0.10609205339558869"
      ]
     },
     "execution_count": 136,
     "metadata": {},
     "output_type": "execute_result"
    }
   ],
   "source": [
    "# Proportion of missing values in the weekly price column\n",
    "1- df.weekly_price.isna().sum()/ df.shape[0]"
   ]
  },
  {
   "cell_type": "code",
   "execution_count": 137,
   "metadata": {},
   "outputs": [
    {
     "data": {
      "text/plain": [
       "0.07262773836536096"
      ]
     },
     "execution_count": 137,
     "metadata": {},
     "output_type": "execute_result"
    }
   ],
   "source": [
    "# Proportion of missing values in the monthly price column\n",
    "1- df.monthly_price.isna().sum()/ df.shape[0]"
   ]
  },
  {
   "cell_type": "markdown",
   "metadata": {},
   "source": [
    "Since the square feet column has only 1.3% of values we can drop this column as most of the Airbnb hosts do not seem to have filled this column."
   ]
  },
  {
   "cell_type": "code",
   "execution_count": 138,
   "metadata": {},
   "outputs": [
    {
     "data": {
      "text/plain": [
       "(320401, 54)"
      ]
     },
     "execution_count": 138,
     "metadata": {},
     "output_type": "execute_result"
    }
   ],
   "source": [
    "# Dropping the square_feet column\n",
    "df.drop(columns='square_feet', inplace= True)\n",
    "df.shape"
   ]
  },
  {
   "cell_type": "markdown",
   "metadata": {},
   "source": [
    "The weekly price column and the monthly price column have only 7-10% filled. This means that the host did not have a special price for week or month and the regular price was only used for calculating them. \n",
    "Hence, we will fill pricex7 and pricex30 for weekly and monthly missing values."
   ]
  },
  {
   "cell_type": "code",
   "execution_count": 183,
   "metadata": {},
   "outputs": [],
   "source": [
    "# Filling weekly and monthly price missing values using the daily price\n",
    "df.weekly_price.fillna(df.price*7, inplace= True)\n",
    "\n",
    "df.monthly_price.fillna(df.price*30, inplace= True)"
   ]
  },
  {
   "cell_type": "markdown",
   "metadata": {},
   "source": [
    "Where there is a missing value for the security fee and the cleaning fee we can assume that to be zero as the host has not mentioned it."
   ]
  },
  {
   "cell_type": "code",
   "execution_count": 185,
   "metadata": {},
   "outputs": [],
   "source": [
    "# Filling zero value for missing security deposit fee and the cleaning fee\n",
    "df.security_deposit.fillna(0, inplace= True)\n",
    "df.cleaning_fee.fillna(0, inplace= True)"
   ]
  },
  {
   "cell_type": "markdown",
   "metadata": {},
   "source": [
    "### 3.5 Modifying Amenities column"
   ]
  },
  {
   "cell_type": "code",
   "execution_count": 202,
   "metadata": {},
   "outputs": [],
   "source": [
    "# Findina all possible amenties across 300,000 listings\n",
    "amenities_list=[]\n",
    "\n",
    "def amenities_list_func(x):\n",
    "    \"\"\"Function to list all the amenities\"\"\"\n",
    "    \n",
    "    split_list = x[1:-1].split(',') #splitting list seperated by commas\n",
    "    split_list_modified=[]\n",
    "    \n",
    "    for item in split_list:\n",
    "        \n",
    "        try:\n",
    "            item= item.strip('\\\"')  # Removing the \"\" char from some of the amenities\n",
    "            split_list_modified.append(item)\n",
    "        except:\n",
    "            split_list_modified.append(item)\n",
    "            \n",
    "            \n",
    "        if item not in amenities_list:\n",
    "            \n",
    "            amenities_list.append(item) # appending the item list\n",
    "    \n",
    "    return split_list_modified\n"
   ]
  },
  {
   "cell_type": "code",
   "execution_count": 209,
   "metadata": {},
   "outputs": [],
   "source": [
    "# Adding a new column with cleaned up values of amenties\n",
    "df.amenities_modified= df.amenities.apply(lambda x: amenities_list_func(x))"
   ]
  },
  {
   "cell_type": "code",
   "execution_count": 206,
   "metadata": {},
   "outputs": [
    {
     "data": {
      "text/plain": [
       "296"
      ]
     },
     "execution_count": 206,
     "metadata": {},
     "output_type": "execute_result"
    }
   ],
   "source": [
    "len(amenities_list)"
   ]
  },
  {
   "cell_type": "code",
   "execution_count": 210,
   "metadata": {},
   "outputs": [
    {
     "data": {
      "text/plain": [
       "['Internet',\n",
       " 'Wifi',\n",
       " 'Paid parking off premises',\n",
       " 'Buzzer/wireless intercom',\n",
       " 'Heating',\n",
       " 'Washer',\n",
       " 'Smoke detector',\n",
       " 'Carbon monoxide detector',\n",
       " 'First aid kit',\n",
       " 'Safety card',\n",
       " 'Fire extinguisher',\n",
       " 'Essentials',\n",
       " 'Shampoo',\n",
       " 'Lock on bedroom door',\n",
       " '24-hour check-in',\n",
       " 'Hangers',\n",
       " 'Hair dryer',\n",
       " 'Iron',\n",
       " 'Laptop friendly workspace',\n",
       " 'translation missing: en.hosting_amenity_49',\n",
       " 'translation missing: en.hosting_amenity_50',\n",
       " 'Private entrance',\n",
       " 'Hot water',\n",
       " 'Bed linens',\n",
       " 'Extra pillows and blankets',\n",
       " 'Ethernet connection',\n",
       " 'Coffee maker',\n",
       " 'Refrigerator',\n",
       " 'Single level home',\n",
       " 'Garden or backyard',\n",
       " 'Host greets you',\n",
       " 'Paid parking on premises',\n",
       " 'Trash can']"
      ]
     },
     "execution_count": 210,
     "metadata": {},
     "output_type": "execute_result"
    }
   ],
   "source": [
    "df.amenities_modified[0]"
   ]
  },
  {
   "cell_type": "markdown",
   "metadata": {},
   "source": [
    "There are a total of 296 seperate amenities listed in all the listings. A seperate dataframe needs to be made that has this information for all the listings."
   ]
  },
  {
   "cell_type": "code",
   "execution_count": 237,
   "metadata": {},
   "outputs": [],
   "source": [
    "# Making a dictionary that has 296 keys for each item in the amenities list. It appends its values based on the fact \n",
    "#  if the item is in that df row or not\n",
    "amenities_dic= {}\n",
    "row=0\n",
    "def amenities_dic_func(x):\n",
    "    \"\"\" Makes a dictionary that has 296 keys for each item in the amenities list. Its values are appened to boolean\n",
    "    if that df row contains that amenity item in it or not\"\"\"\n",
    "    global row\n",
    "    for am_item in amenities_list:\n",
    "\n",
    "        if row==0:   # for the first element of the dictonary\n",
    "            if am_item in x:\n",
    "                amenities_dic[am_item]=[1]\n",
    "            else:\n",
    "                amenities_dic[am_item]=[0]\n",
    "        else:      # for the subsequent elements of the dictonary\n",
    "            if am_item in x:\n",
    "                amenities_dic[am_item].append(1)\n",
    "            else:\n",
    "                amenities_dic[am_item].append(0)\n",
    "    row +=1"
   ]
  },
  {
   "cell_type": "code",
   "execution_count": 238,
   "metadata": {},
   "outputs": [
    {
     "data": {
      "text/plain": [
       "0         None\n",
       "1         None\n",
       "2         None\n",
       "3         None\n",
       "4         None\n",
       "          ... \n",
       "320396    None\n",
       "320397    None\n",
       "320398    None\n",
       "320399    None\n",
       "320400    None\n",
       "Name: amenities, Length: 320401, dtype: object"
      ]
     },
     "execution_count": 238,
     "metadata": {},
     "output_type": "execute_result"
    }
   ],
   "source": [
    "# Making a dictionary for each row of the amenities column\n",
    "df.amenities_modified.apply(lambda x: amenities_dic_func(x))"
   ]
  },
  {
   "cell_type": "code",
   "execution_count": 239,
   "metadata": {},
   "outputs": [
    {
     "data": {
      "text/plain": [
       "(320401, 296)"
      ]
     },
     "execution_count": 239,
     "metadata": {},
     "output_type": "execute_result"
    }
   ],
   "source": [
    "amenities_df=  pd.DataFrame(amenities_dic)\n",
    "amenities_df.shape"
   ]
  },
  {
   "cell_type": "code",
   "execution_count": 240,
   "metadata": {},
   "outputs": [],
   "source": [
    "# Creating a backup for the amenities df\n",
    "amenities_df.to_csv(os.path.join(path,'amenities_df.csv'), index= False)"
   ]
  },
  {
   "cell_type": "markdown",
   "metadata": {},
   "source": [
    "## 4. Exploratory Data Analysis"
   ]
  },
  {
   "cell_type": "code",
   "execution_count": 241,
   "metadata": {},
   "outputs": [
    {
     "name": "stdout",
     "output_type": "stream",
     "text": [
      "<class 'pandas.core.frame.DataFrame'>\n",
      "RangeIndex: 320401 entries, 0 to 320400\n",
      "Data columns (total 54 columns):\n",
      "id                                              320401 non-null int64\n",
      "name                                            320087 non-null object\n",
      "host_id                                         320401 non-null int64\n",
      "host_since                                      320344 non-null datetime64[ns]\n",
      "host_response_time                              181771 non-null object\n",
      "host_response_rate                              181771 non-null float64\n",
      "host_acceptance_rate                            235387 non-null float64\n",
      "host_is_superhost                               320344 non-null float64\n",
      "host_total_listings_count                       320344 non-null float64\n",
      "host_verifications                              320401 non-null object\n",
      "street                                          320401 non-null object\n",
      "city                                            319552 non-null object\n",
      "country                                         320401 non-null object\n",
      "property_type                                   320401 non-null object\n",
      "room_type                                       320401 non-null object\n",
      "accommodates                                    320401 non-null int64\n",
      "bathrooms                                       320111 non-null float64\n",
      "bedrooms                                        319926 non-null float64\n",
      "beds                                            317884 non-null float64\n",
      "bed_type                                        320393 non-null object\n",
      "amenities                                       320401 non-null object\n",
      "price                                           320401 non-null float64\n",
      "weekly_price                                    320401 non-null float64\n",
      "monthly_price                                   320401 non-null float64\n",
      "security_deposit                                320401 non-null float64\n",
      "cleaning_fee                                    320401 non-null float64\n",
      "guests_included                                 320401 non-null int64\n",
      "extra_people                                    320401 non-null float64\n",
      "minimum_nights                                  320401 non-null int64\n",
      "maximum_nights                                  320401 non-null int64\n",
      "availability_30                                 320401 non-null int64\n",
      "availability_60                                 320401 non-null int64\n",
      "availability_90                                 320401 non-null int64\n",
      "availability_365                                320401 non-null int64\n",
      "number_of_reviews                               320401 non-null int64\n",
      "number_of_reviews_ltm                           320401 non-null int64\n",
      "first_review                                    254980 non-null datetime64[ns]\n",
      "last_review                                     254980 non-null datetime64[ns]\n",
      "review_scores_rating                            249910 non-null float64\n",
      "review_scores_accuracy                          249678 non-null float64\n",
      "review_scores_cleanliness                       249721 non-null float64\n",
      "review_scores_checkin                           249538 non-null float64\n",
      "review_scores_communication                     249686 non-null float64\n",
      "review_scores_location                          249531 non-null float64\n",
      "review_scores_value                             249521 non-null float64\n",
      "is_business_travel_ready                        320401 non-null object\n",
      "cancellation_policy                             320400 non-null object\n",
      "require_guest_profile_picture                   320401 non-null int64\n",
      "require_guest_phone_verification                320401 non-null int64\n",
      "calculated_host_listings_count                  320401 non-null int64\n",
      "calculated_host_listings_count_entire_homes     320401 non-null int64\n",
      "calculated_host_listings_count_private_rooms    320401 non-null int64\n",
      "calculated_host_listings_count_shared_rooms     320401 non-null int64\n",
      "reviews_per_month                               254980 non-null float64\n",
      "dtypes: datetime64[ns](3), float64(21), int64(18), object(12)\n",
      "memory usage: 132.0+ MB\n"
     ]
    }
   ],
   "source": [
    "df.info()"
   ]
  },
  {
   "cell_type": "code",
   "execution_count": null,
   "metadata": {},
   "outputs": [],
   "source": []
  },
  {
   "cell_type": "code",
   "execution_count": null,
   "metadata": {},
   "outputs": [],
   "source": []
  },
  {
   "cell_type": "code",
   "execution_count": null,
   "metadata": {},
   "outputs": [],
   "source": []
  },
  {
   "cell_type": "code",
   "execution_count": null,
   "metadata": {},
   "outputs": [],
   "source": []
  },
  {
   "cell_type": "code",
   "execution_count": null,
   "metadata": {},
   "outputs": [],
   "source": []
  }
 ],
 "metadata": {
  "kernelspec": {
   "display_name": "Python 3",
   "language": "python",
   "name": "python3"
  },
  "language_info": {
   "codemirror_mode": {
    "name": "ipython",
    "version": 3
   },
   "file_extension": ".py",
   "mimetype": "text/x-python",
   "name": "python",
   "nbconvert_exporter": "python",
   "pygments_lexer": "ipython3",
   "version": "3.7.4"
  }
 },
 "nbformat": 4,
 "nbformat_minor": 2
}
