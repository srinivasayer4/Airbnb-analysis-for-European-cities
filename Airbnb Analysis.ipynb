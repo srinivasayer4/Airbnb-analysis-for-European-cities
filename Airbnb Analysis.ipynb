{
 "cells": [
  {
   "cell_type": "markdown",
   "metadata": {},
   "source": [
    "# Airbnb analysis for European capital cities\n",
    "## 1. Introduction\n",
    "Airbnb has posted the listing data for various cities across the world on http://insideairbnb.com/get-the-data.html. In this project I will be analyzing the data to find insights to housing prices across major cities in Europe."
   ]
  },
  {
   "cell_type": "code",
   "execution_count": 19,
   "metadata": {},
   "outputs": [],
   "source": [
    "import requests\n",
    "import pandas as pd\n",
    "import numpy as np\n",
    "import matplotlib.pyplot as plt\n",
    "import seaborn as sns\n",
    "import os"
   ]
  },
  {
   "cell_type": "markdown",
   "metadata": {},
   "source": [
    "## 2. Data Gathering\n",
    "Airbnb has posted the listing data for various cities across the world on http://insideairbnb.com/get-the-data.html. I have downloaded the data to my local hard drive. The data is in the form of a compressed csv file."
   ]
  },
  {
   "cell_type": "code",
   "execution_count": 41,
   "metadata": {},
   "outputs": [
    {
     "data": {
      "text/plain": [
       "['Amsterdam',\n",
       " 'Berlin',\n",
       " 'Brussels',\n",
       " 'Copenhagen',\n",
       " 'Lisbon',\n",
       " 'London',\n",
       " 'Madrid',\n",
       " 'Oslo',\n",
       " 'Paris',\n",
       " 'Rome',\n",
       " 'Stockholm']"
      ]
     },
     "execution_count": 41,
     "metadata": {},
     "output_type": "execute_result"
    }
   ],
   "source": [
    "# Listing all the folders with different city information stored in the local hard drive\n",
    "\n",
    "path = r'C:\\Users\\srini\\Projects\\Airbnb'\n",
    "folders= os.listdir(path)\n",
    "folders"
   ]
  },
  {
   "cell_type": "code",
   "execution_count": 31,
   "metadata": {},
   "outputs": [
    {
     "data": {
      "text/html": [
       "<div>\n",
       "<style scoped>\n",
       "    .dataframe tbody tr th:only-of-type {\n",
       "        vertical-align: middle;\n",
       "    }\n",
       "\n",
       "    .dataframe tbody tr th {\n",
       "        vertical-align: top;\n",
       "    }\n",
       "\n",
       "    .dataframe thead th {\n",
       "        text-align: right;\n",
       "    }\n",
       "</style>\n",
       "<table border=\"1\" class=\"dataframe\">\n",
       "  <thead>\n",
       "    <tr style=\"text-align: right;\">\n",
       "      <th></th>\n",
       "      <th>id</th>\n",
       "      <th>listing_url</th>\n",
       "      <th>scrape_id</th>\n",
       "      <th>last_scraped</th>\n",
       "      <th>name</th>\n",
       "      <th>summary</th>\n",
       "      <th>space</th>\n",
       "      <th>description</th>\n",
       "      <th>experiences_offered</th>\n",
       "      <th>neighborhood_overview</th>\n",
       "      <th>...</th>\n",
       "      <th>instant_bookable</th>\n",
       "      <th>is_business_travel_ready</th>\n",
       "      <th>cancellation_policy</th>\n",
       "      <th>require_guest_profile_picture</th>\n",
       "      <th>require_guest_phone_verification</th>\n",
       "      <th>calculated_host_listings_count</th>\n",
       "      <th>calculated_host_listings_count_entire_homes</th>\n",
       "      <th>calculated_host_listings_count_private_rooms</th>\n",
       "      <th>calculated_host_listings_count_shared_rooms</th>\n",
       "      <th>reviews_per_month</th>\n",
       "    </tr>\n",
       "  </thead>\n",
       "  <tbody>\n",
       "    <tr>\n",
       "      <td>0</td>\n",
       "      <td>2818</td>\n",
       "      <td>https://www.airbnb.com/rooms/2818</td>\n",
       "      <td>20200508171622</td>\n",
       "      <td>2020-05-09</td>\n",
       "      <td>Quiet Garden View Room &amp; Super Fast WiFi</td>\n",
       "      <td>Quiet Garden View Room &amp; Super Fast WiFi</td>\n",
       "      <td>I'm renting a bedroom (room overlooking the ga...</td>\n",
       "      <td>Quiet Garden View Room &amp; Super Fast WiFi I'm r...</td>\n",
       "      <td>none</td>\n",
       "      <td>Indische Buurt (\"Indies Neighborhood\") is a ne...</td>\n",
       "      <td>...</td>\n",
       "      <td>t</td>\n",
       "      <td>f</td>\n",
       "      <td>strict_14_with_grace_period</td>\n",
       "      <td>f</td>\n",
       "      <td>f</td>\n",
       "      <td>1</td>\n",
       "      <td>0</td>\n",
       "      <td>1</td>\n",
       "      <td>0</td>\n",
       "      <td>2.05</td>\n",
       "    </tr>\n",
       "    <tr>\n",
       "      <td>1</td>\n",
       "      <td>9693</td>\n",
       "      <td>https://www.airbnb.com/rooms/9693</td>\n",
       "      <td>20200508171622</td>\n",
       "      <td>2020-05-09</td>\n",
       "      <td>Top Location on Canal (Center Flat)</td>\n",
       "      <td>You will love your stay here. It is a beautifu...</td>\n",
       "      <td>This beautiful apartment in the heart of 17th ...</td>\n",
       "      <td>You will love your stay here. It is a beautifu...</td>\n",
       "      <td>none</td>\n",
       "      <td>You will be on a beautiful quite canal and wil...</td>\n",
       "      <td>...</td>\n",
       "      <td>t</td>\n",
       "      <td>f</td>\n",
       "      <td>moderate</td>\n",
       "      <td>f</td>\n",
       "      <td>f</td>\n",
       "      <td>1</td>\n",
       "      <td>1</td>\n",
       "      <td>0</td>\n",
       "      <td>0</td>\n",
       "      <td>0.45</td>\n",
       "    </tr>\n",
       "  </tbody>\n",
       "</table>\n",
       "<p>2 rows × 106 columns</p>\n",
       "</div>"
      ],
      "text/plain": [
       "     id                        listing_url       scrape_id last_scraped  \\\n",
       "0  2818  https://www.airbnb.com/rooms/2818  20200508171622   2020-05-09   \n",
       "1  9693  https://www.airbnb.com/rooms/9693  20200508171622   2020-05-09   \n",
       "\n",
       "                                       name  \\\n",
       "0  Quiet Garden View Room & Super Fast WiFi   \n",
       "1       Top Location on Canal (Center Flat)   \n",
       "\n",
       "                                             summary  \\\n",
       "0           Quiet Garden View Room & Super Fast WiFi   \n",
       "1  You will love your stay here. It is a beautifu...   \n",
       "\n",
       "                                               space  \\\n",
       "0  I'm renting a bedroom (room overlooking the ga...   \n",
       "1  This beautiful apartment in the heart of 17th ...   \n",
       "\n",
       "                                         description experiences_offered  \\\n",
       "0  Quiet Garden View Room & Super Fast WiFi I'm r...                none   \n",
       "1  You will love your stay here. It is a beautifu...                none   \n",
       "\n",
       "                               neighborhood_overview  ... instant_bookable  \\\n",
       "0  Indische Buurt (\"Indies Neighborhood\") is a ne...  ...                t   \n",
       "1  You will be on a beautiful quite canal and wil...  ...                t   \n",
       "\n",
       "  is_business_travel_ready          cancellation_policy  \\\n",
       "0                        f  strict_14_with_grace_period   \n",
       "1                        f                     moderate   \n",
       "\n",
       "  require_guest_profile_picture require_guest_phone_verification  \\\n",
       "0                             f                                f   \n",
       "1                             f                                f   \n",
       "\n",
       "   calculated_host_listings_count  \\\n",
       "0                               1   \n",
       "1                               1   \n",
       "\n",
       "   calculated_host_listings_count_entire_homes  \\\n",
       "0                                            0   \n",
       "1                                            1   \n",
       "\n",
       "  calculated_host_listings_count_private_rooms  \\\n",
       "0                                            1   \n",
       "1                                            0   \n",
       "\n",
       "   calculated_host_listings_count_shared_rooms  reviews_per_month  \n",
       "0                                            0               2.05  \n",
       "1                                            0               0.45  \n",
       "\n",
       "[2 rows x 106 columns]"
      ]
     },
     "execution_count": 31,
     "metadata": {},
     "output_type": "execute_result"
    }
   ],
   "source": [
    "# Importing the listing information for Amsterdam\n",
    "df= pd.read_csv(os.path.join(path,folders[0], 'listings.csv.gz'))\n",
    "df.head(2)"
   ]
  },
  {
   "cell_type": "code",
   "execution_count": 37,
   "metadata": {},
   "outputs": [
    {
     "data": {
      "text/plain": [
       "(19278, 106)"
      ]
     },
     "execution_count": 37,
     "metadata": {},
     "output_type": "execute_result"
    }
   ],
   "source": [
    "df.shape"
   ]
  },
  {
   "cell_type": "markdown",
   "metadata": {},
   "source": [
    "Since the data for each city has the same file name 'listings' it will be accessed from across all the folders and merged to form a master dataframe."
   ]
  },
  {
   "cell_type": "code",
   "execution_count": 56,
   "metadata": {},
   "outputs": [],
   "source": [
    "# Merging the listing across all cities to form a master dataframe\n",
    "for i,city in enumerate(folders):\n",
    "    try:\n",
    "        if i==0:\n",
    "            df= pd.read_csv(os.path.join(path,city, 'listings.csv.gz'), low_memory=False)\n",
    "                                                # reading the csv file for Amsterdam\n",
    "        else:\n",
    "            df= pd.concat([df,pd.read_csv(os.path.join(path,city, 'listings.csv.gz'),low_memory=False)] ) \n",
    "                                                # joining the remaining files\n",
    "            \n",
    "    except:\n",
    "        print(city)\n"
   ]
  },
  {
   "cell_type": "code",
   "execution_count": 55,
   "metadata": {},
   "outputs": [
    {
     "data": {
      "text/plain": [
       "(320401, 106)"
      ]
     },
     "execution_count": 55,
     "metadata": {},
     "output_type": "execute_result"
    }
   ],
   "source": [
    "# Sending the compiled file to a local hard drive\n",
    "df.to_csv(os.path.join(path,'listing_master.csv'), index= False)\n",
    "df.shape"
   ]
  },
  {
   "cell_type": "markdown",
   "metadata": {},
   "source": [
    "The master dataframe consists of more than 300,000 rows and 106 columns."
   ]
  },
  {
   "cell_type": "markdown",
   "metadata": {},
   "source": [
    "## 3. Data Wrangling"
   ]
  },
  {
   "cell_type": "code",
   "execution_count": 51,
   "metadata": {},
   "outputs": [
    {
     "name": "stdout",
     "output_type": "stream",
     "text": [
      "id 2818\n",
      "listing_url https://www.airbnb.com/rooms/2818\n",
      "scrape_id 20200508171622\n",
      "last_scraped 2020-05-09\n",
      "name Quiet Garden View Room & Super Fast WiFi\n",
      "summary Quiet Garden View Room & Super Fast WiFi\n",
      "space I'm renting a bedroom (room overlooking the garden) in my apartment in Amsterdam,  The room is located to the east of the city centre in a quiet, typical Amsterdam neighbourhood the \"Indische Buurt\". Amsterdam’s historic centre is less than 15 minutes away by bike or tram. The features of the room are: - Twin beds (80 x 200 cm, down quilts and pillows)  - 2 pure cotton towels for each guest  - reading lamps - bedside table - wardrobe - table with chairs - tea and coffee making facilities - mini bar - alarm clock - Hi-Fi system with cd player, connection for mp3 player / phone - map of Amsterdam and public transport - Wi-Fi Internet connection  Extra services: - Bike rental\n",
      "description Quiet Garden View Room & Super Fast WiFi I'm renting a bedroom (room overlooking the garden) in my apartment in Amsterdam,  The room is located to the east of the city centre in a quiet, typical Amsterdam neighbourhood the \"Indische Buurt\". Amsterdam’s historic centre is less than 15 minutes away by bike or tram. The features of the room are: - Twin beds (80 x 200 cm, down quilts and pillows)  - 2 pure cotton towels for each guest  - reading lamps - bedside table - wardrobe - table with chairs - tea and coffee making facilities - mini bar - alarm clock - Hi-Fi system with cd player, connection for mp3 player / phone - map of Amsterdam and public transport - Wi-Fi Internet connection  Extra services: - Bike rental Indische Buurt (\"Indies Neighborhood\") is a neighbourhood in the eastern portion of the city of Amsterdam, in the Dutch province of Noord-Holland. The name dates from the early 20th century and is derived from the fact that the neighbourhood's streets are named after islands a\n",
      "experiences_offered none\n",
      "neighborhood_overview Indische Buurt (\"Indies Neighborhood\") is a neighbourhood in the eastern portion of the city of Amsterdam, in the Dutch province of Noord-Holland. The name dates from the early 20th century and is derived from the fact that the neighbourhood's streets are named after islands and other geographical concepts in the former Dutch colony of the Dutch East Indies. The first street was named in 1902. In 2003, there were around 23,357 inhabitants. The neighbourhood is bounded on the west by the railroad Amsterdam - Hilversum (with the Muiderpoort Station), on the east side by Flevopark, on the north side by Zeeburgerdijk and on the south side by the Ringvaart Watergraafsmeer. Indische Buurt is the oldest part of the Zeeburg district and is very ethnically diverse, and a high percentage of the population is of immigrant origin (for Zeeburg this is already high at 55%, but higher in the Indische Buurt) and there are an estimated 100 languages spoken.\n",
      "notes From week 38 to week 47 maintenance work to the bulding, possible noise on weekdays (from 7:00 to 16:00)\n",
      "transit The neighbourhood is well served by 24 hours public transport (2 trams and 4 buses).  Amsterdam is made for cycling. With special traffic lights and bicycle lanes, it is the fastest and cheapest way to travel in and around the city. Bicycle riding is also convenient, safe and lots of fun. Whatever your age, you will see more by bike!\n",
      "access nan\n",
      "interaction nan\n",
      "house_rules Please: - Leave your shoes in the entrance  - Do not smoke in the apartment or in the common parts of the building - Feel free to leave your valuables in the room but at your own risk (in case of     lost I will not be responsible) - Keep a low volume between 22:00 and 8:00 - Do not open the door to strangers - Turn off electrical appliances and unplug devices & chargers when not in    the room - Before exiting make sure that the window of the room and the entrance door    are well locked and the alarm ON.\n",
      "thumbnail_url nan\n",
      "medium_url nan\n",
      "picture_url https://a0.muscache.com/im/pictures/10272854/8dcca016_original.jpg?aki_policy=large\n",
      "xl_picture_url nan\n",
      "host_id 3159\n",
      "host_url https://www.airbnb.com/users/show/3159\n",
      "host_name Daniel\n",
      "host_since 2008-09-24\n",
      "host_location Amsterdam, Noord-Holland, The Netherlands\n",
      "host_about Upon arriving in Amsterdam, one can imagine asking oneself: Where is the fun nightlife? What are the local hot spots? \r\n",
      "\r\n",
      "How can I experience the real life in this city? I  offer you the opportunity to act, eat and sleep like-a-local!  \r\n",
      "\r\n",
      "I provide the traveler with the opportunity to connect with the local life in Amsterdam.\n",
      "host_response_time within an hour\n",
      "host_response_rate 100%\n",
      "host_acceptance_rate 100%\n",
      "host_is_superhost t\n",
      "host_thumbnail_url https://a0.muscache.com/im/users/3159/profile_pic/1259095323/original.jpg?aki_policy=profile_small\n",
      "host_picture_url https://a0.muscache.com/im/users/3159/profile_pic/1259095323/original.jpg?aki_policy=profile_x_medium\n",
      "host_neighbourhood Indische Buurt\n",
      "host_listings_count 1.0\n",
      "host_total_listings_count 1.0\n",
      "host_verifications ['email', 'phone', 'reviews', 'jumio', 'offline_government_id', 'selfie', 'government_id', 'identity_manual']\n",
      "host_has_profile_pic t\n",
      "host_identity_verified f\n",
      "street Amsterdam, North Holland, Netherlands\n",
      "neighbourhood Indische Buurt\n",
      "neighbourhood_cleansed Oostelijk Havengebied - Indische Buurt\n",
      "neighbourhood_group_cleansed nan\n",
      "city Amsterdam\n",
      "state North Holland\n",
      "zipcode nan\n",
      "market Amsterdam\n",
      "smart_location Amsterdam, Netherlands\n",
      "country_code NL\n",
      "country Netherlands\n",
      "latitude 52.36575\n",
      "longitude 4.94142\n",
      "is_location_exact f\n",
      "property_type Apartment\n",
      "room_type Private room\n",
      "accommodates 2\n",
      "bathrooms 1.5\n",
      "bedrooms 1.0\n",
      "beds 2.0\n",
      "bed_type Real Bed\n",
      "amenities {Internet,Wifi,\"Paid parking off premises\",\"Buzzer/wireless intercom\",Heating,Washer,\"Smoke detector\",\"Carbon monoxide detector\",\"First aid kit\",\"Safety card\",\"Fire extinguisher\",Essentials,Shampoo,\"Lock on bedroom door\",\"24-hour check-in\",Hangers,\"Hair dryer\",Iron,\"Laptop friendly workspace\",\"translation missing: en.hosting_amenity_49\",\"translation missing: en.hosting_amenity_50\",\"Private entrance\",\"Hot water\",\"Bed linens\",\"Extra pillows and blankets\",\"Ethernet connection\",\"Coffee maker\",Refrigerator,\"Single level home\",\"Garden or backyard\",\"Host greets you\",\"Paid parking on premises\",\"Trash can\"}\n",
      "square_feet nan\n",
      "price $59.00\n",
      "weekly_price nan\n",
      "monthly_price $1,500.00\n",
      "security_deposit $200.00\n",
      "cleaning_fee $60.00\n",
      "guests_included 1\n",
      "extra_people $20.00\n",
      "minimum_nights 3\n",
      "maximum_nights 15\n",
      "minimum_minimum_nights 3\n",
      "maximum_minimum_nights 3\n",
      "minimum_maximum_nights 1125\n",
      "maximum_maximum_nights 1125\n",
      "minimum_nights_avg_ntm 3.0\n",
      "maximum_nights_avg_ntm 1125.0\n",
      "calendar_updated 2 months ago\n",
      "has_availability t\n",
      "availability_30 22\n",
      "availability_60 52\n",
      "availability_90 82\n",
      "availability_365 157\n",
      "calendar_last_scraped 2020-05-09\n",
      "number_of_reviews 278\n",
      "number_of_reviews_ltm 22\n",
      "first_review 2009-03-30\n",
      "last_review 2020-02-14\n",
      "review_scores_rating 98.0\n",
      "review_scores_accuracy 10.0\n",
      "review_scores_cleanliness 10.0\n",
      "review_scores_checkin 10.0\n",
      "review_scores_communication 10.0\n",
      "review_scores_location 9.0\n",
      "review_scores_value 10.0\n",
      "requires_license f\n",
      "license nan\n",
      "jurisdiction_names {Amsterdam,\" NL Zip Codes 2\",\" Amsterdam\",\" NL\"}\n",
      "instant_bookable t\n",
      "is_business_travel_ready f\n",
      "cancellation_policy strict_14_with_grace_period\n",
      "require_guest_profile_picture f\n",
      "require_guest_phone_verification f\n",
      "calculated_host_listings_count 1\n",
      "calculated_host_listings_count_entire_homes 0\n",
      "calculated_host_listings_count_private_rooms 1\n",
      "calculated_host_listings_count_shared_rooms 0\n",
      "reviews_per_month 2.05\n"
     ]
    }
   ],
   "source": [
    "for i,col_name in enumerate(df.columns):\n",
    "    print(col_name, df.iloc[0,i])"
   ]
  },
  {
   "cell_type": "markdown",
   "metadata": {},
   "source": [
    "Only some columns are essential for our current analysis. We will make a subset of our dataframe with the essential columns."
   ]
  },
  {
   "cell_type": "code",
   "execution_count": 59,
   "metadata": {},
   "outputs": [],
   "source": [
    "# Making a list for essential columns\n",
    "essential_columns= ['id', 'name', 'host_id','host_since', 'host_response_time','host_response_rate','host_acceptance_rate',\\\n",
    "'host_is_superhost','host_total_listings_count','host_verifications','street','city','country',\\\n",
    " 'property_type','room_type','accommodates','bathrooms','bedrooms','beds','bed_type','amenities','square_feet',\\\n",
    "'price','weekly_price','monthly_price','security_deposit','cleaning_fee','guests_included','extra_people','minimum_nights',\\\n",
    "'maximum_nights','availability_30','availability_60','availability_90','availability_365', 'number_of_reviews', \\\n",
    "'number_of_reviews_ltm','first_review','last_review','review_scores_rating','review_scores_accuracy',\\\n",
    "'review_scores_cleanliness','review_scores_checkin','review_scores_communication','review_scores_location',\\\n",
    "'review_scores_value','is_business_travel_ready','cancellation_policy','require_guest_profile_picture','require_guest_phone_verification',\\\n",
    "'calculated_host_listings_count','calculated_host_listings_count_entire_homes',\\\n",
    "'calculated_host_listings_count_private_rooms','calculated_host_listings_count_shared_rooms','reviews_per_month']\n"
   ]
  },
  {
   "cell_type": "code",
   "execution_count": 61,
   "metadata": {},
   "outputs": [
    {
     "data": {
      "text/plain": [
       "(320401, 55)"
      ]
     },
     "execution_count": 61,
     "metadata": {},
     "output_type": "execute_result"
    }
   ],
   "source": [
    "# Making a subset dataframe with essential columns\n",
    "df = df[essential_columns]\n",
    "\n",
    "# Creating a backup for the cleaned dataframe\n",
    "df.to_csv(os.path.join(path,'listing_master_clean.csv'), index= False)\n",
    "\n",
    "df.shape"
   ]
  },
  {
   "cell_type": "code",
   "execution_count": null,
   "metadata": {},
   "outputs": [],
   "source": []
  },
  {
   "cell_type": "code",
   "execution_count": null,
   "metadata": {},
   "outputs": [],
   "source": []
  }
 ],
 "metadata": {
  "kernelspec": {
   "display_name": "Python 3",
   "language": "python",
   "name": "python3"
  },
  "language_info": {
   "codemirror_mode": {
    "name": "ipython",
    "version": 3
   },
   "file_extension": ".py",
   "mimetype": "text/x-python",
   "name": "python",
   "nbconvert_exporter": "python",
   "pygments_lexer": "ipython3",
   "version": "3.7.4"
  }
 },
 "nbformat": 4,
 "nbformat_minor": 2
}
